{
 "cells": [
  {
   "cell_type": "code",
   "execution_count": 1,
   "id": "afef807e-e0d5-4f47-8a5c-fc282bfbda48",
   "metadata": {},
   "outputs": [],
   "source": [
    "import pandas as pd\n",
    "import numpy as np\n",
    "import seaborn as sns\n",
    "import matplotlib.pyplot as plt\n",
    "from datetime import datetime,timedelta"
   ]
  },
  {
   "cell_type": "code",
   "execution_count": 2,
   "id": "93f9b172-d92b-4908-9900-3d55c4c0eefc",
   "metadata": {},
   "outputs": [],
   "source": [
    "# read all csv files into dataframes\n",
    "courses_df = pd.read_csv('D:\\Python_Project_by_Manohar_sir\\courses.csv',parse_dates=['created_on','last_updated_on'],dayfirst=True)\n",
    "users_df = pd.read_csv(r'D:\\Python_Project_by_Manohar_sir\\users.csv',parse_dates=['date_of_birth','registration_date'],dayfirst=True)\n",
    "ratings_df = pd.read_csv(r'D:\\Python_Project_by_Manohar_sir\\ratings.csv',parse_dates=['first_reviewed_on','last_updated_on'],dayfirst=True)\n",
    "enrollment_df = pd.read_csv('D:\\Python_Project_by_Manohar_sir\\enrollments.csv',parse_dates=['enrollment_date'],dayfirst=True)\n",
    "payments_df = pd.read_csv('D:\\Python_Project_by_Manohar_sir\\payments.csv',parse_dates=['transaction_date'],dayfirst=True)\n",
    "refunds_df = pd.read_csv(r'D:\\Python_Project_by_Manohar_sir\\refunds.csv',parse_dates=['refund_date'],dayfirst=True)"
   ]
  },
  {
   "cell_type": "code",
   "execution_count": 3,
   "id": "f188bc4b-31c1-4ee7-989f-57abbeba2a71",
   "metadata": {},
   "outputs": [
    {
     "name": "stdout",
     "output_type": "stream",
     "text": [
      "Users Dataframe columns: ['user_id', 'name', 'date_of_birth', 'email', 'gender', 'category', 'registration_date', 'country', 'last_login_date', 'user_type'] \n",
      "\n",
      "Courses Dataframe columns: ['course_id', 'title', 'category', 'language', 'subtitles', 'price', 'instructor_id', 'length', 'difficulty_level', 'created_on', 'last_updated_on', 'number_of_videos', 'number_of_quizzes', 'view_count', 'average_watch_duration', 'certification_available', 'completion_rate', 'bookmark_count'] \n",
      "\n",
      "Ratings Dataframe columns: ['review_id', 'course_id', 'student_id', 'rating', 'review_text', 'first_reviewed_on', 'last_updated_on', 'helpful_count', 'reported_count'] \n",
      "\n",
      "Enrollment Dataframe columns: ['enrollment_id', 'student_id', 'course_id', 'enrollment_date'] \n",
      "\n",
      "Payments Dataframe columns: ['payment_id', 'enrollment_id', 'discount_percent', 'amount_paid', 'coupon_code', 'payment_method', 'transaction_date', 'transaction_id', 'payment_status'] \n",
      "\n",
      "Refunds Dataframe columns: ['refund_id', 'enrollment_id', 'refund_date', 'refund_reason', 'refund_amount'] \n",
      "\n"
     ]
    }
   ],
   "source": [
    "print('Users Dataframe columns:',users_df.columns.tolist(),'\\n')\n",
    "print('Courses Dataframe columns:',courses_df.columns.tolist(),'\\n')\n",
    "print('Ratings Dataframe columns:',ratings_df.columns.tolist(),'\\n')\n",
    "print('Enrollment Dataframe columns:',enrollment_df.columns.tolist(),'\\n')\n",
    "print('Payments Dataframe columns:',payments_df.columns.tolist(),'\\n')\n",
    "print('Refunds Dataframe columns:',refunds_df.columns.tolist(),'\\n')"
   ]
  },
  {
   "cell_type": "code",
   "execution_count": 4,
   "id": "48788738-287c-41ab-adfd-795e1a2076e1",
   "metadata": {},
   "outputs": [
    {
     "name": "stdout",
     "output_type": "stream",
     "text": [
      "Free courses and paid courses:\n",
      "Free courses: 18, Paid_couses: 45\n"
     ]
    }
   ],
   "source": [
    "# how many courses are free and how many courses have a price associated with them?\n",
    "print('Free courses and paid courses:')\n",
    "free_courses= courses_df[courses_df['price']==0].shape[0]\n",
    "paid_courses = courses_df[courses_df['price']>0].shape[0]\n",
    "print(f'Free courses: {free_courses}, Paid_couses: {paid_courses}')"
   ]
  },
  {
   "cell_type": "code",
   "execution_count": 5,
   "id": "8d1c839e-226e-40aa-b923-ab32edf5c75c",
   "metadata": {},
   "outputs": [
    {
     "name": "stdout",
     "output_type": "stream",
     "text": [
      "no of courses instructor_id\n",
      "457246    6\n",
      "220585    5\n",
      "871007    5\n",
      "668495    4\n",
      "536923    4\n",
      "751788    3\n",
      "712134    3\n",
      "582060    3\n",
      "767050    3\n",
      "838186    3\n",
      "525207    3\n",
      "278667    3\n",
      "204568    2\n",
      "764597    2\n",
      "632410    2\n",
      "288315    2\n",
      "173468    2\n",
      "742878    2\n",
      "417012    1\n",
      "241479    1\n",
      "364202    1\n",
      "424379    1\n",
      "295438    1\n",
      "370558    1\n",
      "Name: count, dtype: int64\n"
     ]
    }
   ],
   "source": [
    "# How many corses is each instructor teaching on the platform?\n",
    "instructor_teaching = courses_df['instructor_id'].value_counts()\n",
    "print(f'no of courses {instructor_teaching}')"
   ]
  },
  {
   "cell_type": "code",
   "execution_count": 6,
   "id": "62b2af06-1c5d-4575-a210-17f83c7ca04d",
   "metadata": {},
   "outputs": [
    {
     "name": "stdout",
     "output_type": "stream",
     "text": [
      "most popular courses based on book marks\n",
      "                                            title  bookmark_count\n",
      "34                Genetics: From DNA to Evolution             485\n",
      "13                             Python Masterclass             476\n",
      "24  Physics Made Simple: Fundamentals to Advanced             458\n",
      "11       Instructional Design for Online Learning             452\n",
      "15            Leadership and Strategic Management             450\n"
     ]
    }
   ],
   "source": [
    "# which courses are the most popular based on the number of bookmarks?\n",
    "popular_courses = courses_df.nlargest(5,'bookmark_count')\n",
    "print(f\"most popular courses based on book marks\\n{popular_courses[['title','bookmark_count']]}\")"
   ]
  },
  {
   "cell_type": "code",
   "execution_count": 7,
   "id": "9db7f6de-6cc8-49ee-9054-7d526414ad99",
   "metadata": {},
   "outputs": [
    {
     "name": "stdout",
     "output_type": "stream",
     "text": [
      "User registered in each category\n",
      "category\n",
      "retired      766\n",
      "homemaker    744\n",
      "student      717\n",
      "working      715\n",
      "Name: count, dtype: int64\n"
     ]
    }
   ],
   "source": [
    "# how many users are registered in each user category?\n",
    "no_of_users = users_df['category'].value_counts()\n",
    "print(f'User registered in each category\\n{no_of_users}')"
   ]
  },
  {
   "cell_type": "code",
   "execution_count": 8,
   "id": "02740ca1-b70c-4d0e-ada8-e28d22819ae7",
   "metadata": {},
   "outputs": [
    {
     "name": "stdout",
     "output_type": "stream",
     "text": [
      "male to female ratio: 1.52\n"
     ]
    }
   ],
   "source": [
    "# what is the male to female ratio among the users?\n",
    "gender_ratio = users_df['gender'].value_counts()\n",
    "male_to_female_ratio = gender_ratio['male']/gender_ratio['female']\n",
    "print(f'male to female ratio: {male_to_female_ratio:.2f}')\n"
   ]
  },
  {
   "cell_type": "code",
   "execution_count": 9,
   "id": "4b86536f-6e11-497c-bdb8-0c9a64417538",
   "metadata": {},
   "outputs": [
    {
     "name": "stdout",
     "output_type": "stream",
     "text": [
      "worst courses rates :\n",
      "                                                title  completion_rate\n",
      "27             Biology: Understanding the Human Body            12.52\n",
      "7                    Introduction to Quantum Physics            12.88\n",
      "17  Project Management: From Initiation to Execution            13.52\n",
      "14                     Digital Marketing Masterclass            16.09\n",
      "22                 Photography: From Beginner to Pro            16.54\n"
     ]
    }
   ],
   "source": [
    "# which course have the worst completion rates?\n",
    "wort_course=courses_df.nsmallest(5,'completion_rate')\n",
    "print(f\"worst courses rates :\\n {wort_course [['title','completion_rate']]}\")"
   ]
  },
  {
   "cell_type": "code",
   "execution_count": 10,
   "id": "f8ca8632-bf12-45a1-ab6d-9c78d0520774",
   "metadata": {},
   "outputs": [
    {
     "name": "stdout",
     "output_type": "stream",
     "text": [
      "unique users enrolled in at least one course: 261\n"
     ]
    }
   ],
   "source": [
    "# how many unique users are enrolled in atleast one course?\n",
    "unique_users = enrollment_df ['student_id'].nunique()\n",
    "print(f'unique users enrolled in at least one course: {unique_users}')"
   ]
  },
  {
   "cell_type": "code",
   "execution_count": 11,
   "id": "4d436d3e-d9f2-4873-b7bd-c231ceb02538",
   "metadata": {},
   "outputs": [
    {
     "name": "stdout",
     "output_type": "stream",
     "text": [
      "users enrolled in multiple courses : 14\n"
     ]
    }
   ],
   "source": [
    "# how many users are enrolled in multiple courses?\n",
    "multiple_enrollments = enrollment_df['student_id'].value_counts()\n",
    "users_multiple_courses = (multiple_enrollments>1).sum()\n",
    "print(f\"users enrolled in multiple courses : {users_multiple_courses}\")"
   ]
  },
  {
   "cell_type": "code",
   "execution_count": 12,
   "id": "167c6a8a-b7ce-49de-9f7a-840ee07755c5",
   "metadata": {},
   "outputs": [
    {
     "name": "stdout",
     "output_type": "stream",
     "text": [
      "most enrolled courses:\n",
      " course_id\n",
      "76064    20\n",
      "64796    19\n",
      "92956    18\n",
      "79177    18\n",
      "13258    15\n",
      "Name: count, dtype: int64\n"
     ]
    }
   ],
   "source": [
    "# which 5 courses have the most enrololment?\n",
    "top_courses =  enrollment_df['course_id'].value_counts().nlargest(5)\n",
    "print(f\"most enrolled courses:\\n {top_courses}\")"
   ]
  },
  {
   "cell_type": "code",
   "execution_count": 13,
   "id": "46c5e685-d4b1-4134-b137-6d0d9cd3c2d5",
   "metadata": {},
   "outputs": [
    {
     "name": "stdout",
     "output_type": "stream",
     "text": [
      "Successful payments : $3770.5\n"
     ]
    }
   ],
   "source": [
    "# find the total revenue generated from successful payments\n",
    "total_revenue = payments_df[payments_df['payment_status']=='success']['amount_paid'].sum()\n",
    "print(f\"Successful payments : ${total_revenue}\")"
   ]
  },
  {
   "cell_type": "code",
   "execution_count": 14,
   "id": "f2d5e222-728b-4b3b-8d58-b7c136c42695",
   "metadata": {},
   "outputs": [
    {
     "name": "stdout",
     "output_type": "stream",
     "text": [
      "average discount percentage : 16.35%\n"
     ]
    }
   ],
   "source": [
    "# what is the average discount percentage applied across all discounted payments?\n",
    "avg_discounts = payments_df[payments_df['discount_percent']>0]['discount_percent'].mean()\n",
    "print(f\"average discount percentage : {avg_discounts:.2f}%\")"
   ]
  },
  {
   "cell_type": "code",
   "execution_count": 15,
   "id": "5e89fe13-1053-4292-8657-014cab3e0ae6",
   "metadata": {},
   "outputs": [
    {
     "name": "stdout",
     "output_type": "stream",
     "text": [
      "Top countries with highest number of student:\n",
      "country\n",
      "India    1163\n",
      "US        865\n",
      "China     526\n",
      "Name: count, dtype: int64\n"
     ]
    }
   ],
   "source": [
    "# find top 3 countries with the highest number of student\n",
    "top_countries = users_df['country'].value_counts().nlargest(3)\n",
    "print(f'Top countries with highest number of student:\\n{top_countries}')"
   ]
  },
  {
   "cell_type": "code",
   "execution_count": 16,
   "id": "d1ff0418-3b5b-48e9-9a1d-bedfdda9c68b",
   "metadata": {},
   "outputs": [
    {
     "name": "stdout",
     "output_type": "stream",
     "text": [
      "most common reason for refunds: Course content not satisfactory\n"
     ]
    }
   ],
   "source": [
    "# what is the most common reason for refunds?\n",
    "reason_refund = refunds_df['refund_reason'].mode()[0]\n",
    "print(f'most common reason for refunds: {reason_refund}')"
   ]
  },
  {
   "cell_type": "code",
   "execution_count": 17,
   "id": "fce02163-8b49-4459-b06b-2fc2687e70ba",
   "metadata": {},
   "outputs": [
    {
     "name": "stdout",
     "output_type": "stream",
     "text": [
      "average age of students: 41.84\n"
     ]
    }
   ],
   "source": [
    "# add an age column to the users table and then calculate average age of the students on the website.\n",
    "users_df['date_of_birth']=pd.to_datetime(users_df['date_of_birth'])\n",
    "users_df['age']=(datetime.now() - users_df['date_of_birth']).dt.days//365\n",
    "average_age = users_df['age'].mean()\n",
    "print(f'average age of students: {average_age:.2f}')"
   ]
  },
  {
   "cell_type": "code",
   "execution_count": 18,
   "id": "4e2db224-e48a-4a0d-9653-a73bed06d863",
   "metadata": {},
   "outputs": [
    {
     "name": "stdout",
     "output_type": "stream",
     "text": [
      "average age of students in each course:\n",
      "course_id\n",
      "13258    41.800000\n",
      "18426    39.846154\n",
      "20195    51.000000\n",
      "21108    37.785714\n",
      "21248    38.500000\n",
      "22005    69.000000\n",
      "27385    47.000000\n",
      "27431    15.500000\n",
      "30371    41.800000\n",
      "30790    48.000000\n",
      "31874    34.000000\n",
      "32369    38.625000\n",
      "33057    42.500000\n",
      "39766    23.000000\n",
      "45770    36.200000\n",
      "48950    80.000000\n",
      "49963    29.461538\n",
      "51293    47.363636\n",
      "54046    43.000000\n",
      "54145    47.888889\n",
      "56446    42.000000\n",
      "56799    42.500000\n",
      "59716    17.000000\n",
      "62276    34.000000\n",
      "62660    30.000000\n",
      "64561    66.666667\n",
      "64796    39.894737\n",
      "65005    33.625000\n",
      "67194    35.000000\n",
      "72387    62.500000\n",
      "76064    42.750000\n",
      "78724    49.250000\n",
      "79177    40.000000\n",
      "85886    26.000000\n",
      "86558    48.000000\n",
      "86724    47.000000\n",
      "89472    24.000000\n",
      "92956    49.777778\n",
      "93178    38.000000\n",
      "93568    54.000000\n",
      "93619    43.266667\n",
      "96323    54.000000\n",
      "97039    41.000000\n",
      "97988    41.066667\n",
      "99133    50.000000\n",
      "Name: age, dtype: float64\n"
     ]
    }
   ],
   "source": [
    "# find the average of the students in each course.\n",
    "avg_age_per_course = enrollment_df.merge(users_df[['user_id','age']],left_on='student_id',right_on='user_id').groupby('course_id')['age'].mean()\n",
    "print(f'average age of students in each course:\\n{avg_age_per_course}')"
   ]
  },
  {
   "cell_type": "code",
   "execution_count": 19,
   "id": "f0f387e2-3b43-4235-a77b-de34512254d9",
   "metadata": {},
   "outputs": [
    {
     "name": "stdout",
     "output_type": "stream",
     "text": [
      "average age of students in each course category:\n",
      "category\n",
      "Arts and Design               43.700000\n",
      "Business and Management       42.812500\n",
      "Education                     39.549296\n",
      "Health                        43.228571\n",
      "Personal Development          65.000000\n",
      "Science and Mathematics       39.906977\n",
      "Technology and Programming    41.619048\n",
      "Name: age, dtype: float64\n"
     ]
    }
   ],
   "source": [
    "# find average age of the students in each course category.\n",
    "avg_age_per_category = enrollment_df.merge(users_df[['user_id','age']],left_on='student_id',right_on='user_id').merge(courses_df[['course_id','category']],on='course_id').groupby('category')['age'].mean()\n",
    "print(f'average age of students in each course category:\\n{avg_age_per_category}')"
   ]
  },
  {
   "cell_type": "code",
   "execution_count": 20,
   "id": "f5cc6e3f-5582-4c27-a33c-6260c7845907",
   "metadata": {},
   "outputs": [
    {
     "name": "stdout",
     "output_type": "stream",
     "text": [
      "average age of users for each user category:\n",
      "category\n",
      "homemaker    42.067204\n",
      "retired      41.798956\n",
      "student      41.297071\n",
      "working      42.172028\n",
      "Name: age, dtype: float64\n"
     ]
    }
   ],
   "source": [
    "# calculate the average age of users for each user category\n",
    "avg_age = users_df.groupby('category')['age'].mean()\n",
    "print(f'average age of users for each user category:\\n{avg_age}')"
   ]
  },
  {
   "cell_type": "code",
   "execution_count": 21,
   "id": "a6e2e42d-294c-4949-8276-11bce2da9d68",
   "metadata": {},
   "outputs": [
    {
     "data": {
      "image/png": "[encoded data removed]",
      "text/plain": [
       "<Figure size 1000x500 with 1 Axes>"
      ]
     },
     "metadata": {},
     "output_type": "display_data"
    }
   ],
   "source": [
    "# plot the age distribution of all the users.\n",
    "plt.figure(figsize=(10,5))\n",
    "sns.histplot(users_df['age'],bins=20,kde=True)\n",
    "plt.title('Age Distribution of users')\n",
    "plt.xlabel('Age')\n",
    "plt.ylabel('Frequency')\n",
    "plt.show()"
   ]
  },
  {
   "cell_type": "code",
   "execution_count": 22,
   "id": "4932d267-6ebe-4313-91a7-3f803f9506ca",
   "metadata": {},
   "outputs": [
    {
     "data": {
      "image/png": "[encoded data removed]",
      "text/plain": [
       "<Figure size 1000x500 with 1 Axes>"
      ]
     },
     "metadata": {},
     "output_type": "display_data"
    }
   ],
   "source": [
    "# plot the gender disrtibution to understand the gender breakdown of users\n",
    "plt.figure(figsize=(10,5))\n",
    "sns.countplot(data=users_df,x='gender')\n",
    "plt.title('Gender Distribution of users')\n",
    "plt.xlabel('Gender')\n",
    "plt.ylabel('Count')\n",
    "plt.show()"
   ]
  },
  {
   "cell_type": "code",
   "execution_count": 23,
   "id": "53632f5a-c592-45ad-9c5f-9ff5298a3bf4",
   "metadata": {},
   "outputs": [
    {
     "data": {
      "image/png": "[encoded data removed]",
      "text/plain": [
       "<Figure size 1000x500 with 1 Axes>"
      ]
     },
     "metadata": {},
     "output_type": "display_data"
    }
   ],
   "source": [
    "# plot the geographic distribution of users (based on country)\n",
    "plt.figure(figsize=(10,5))\n",
    "sns.countplot(data=users_df,y='country',order=users_df['country'].value_counts().index)\n",
    "plt.title('Geographic Distribution of users')\n",
    "plt.xlabel('Count')\n",
    "plt.ylabel('Country')\n",
    "plt.show()"
   ]
  },
  {
   "cell_type": "code",
   "execution_count": 24,
   "id": "39d33765-138e-445a-a8aa-d5bb536944a8",
   "metadata": {},
   "outputs": [
    {
     "data": {
      "image/png": "[encoded data removed]",
      "text/plain": [
       "<Figure size 1000x500 with 1 Axes>"
      ]
     },
     "metadata": {},
     "output_type": "display_data"
    }
   ],
   "source": [
    "# show how the age distribution varies for different user types\n",
    "plt.figure(figsize=(10,5))\n",
    "sns.boxplot(data=users_df,x='user_type',y='age')\n",
    "plt.title('Age distribution by user type')\n",
    "plt.xlabel('User Type')\n",
    "plt.ylabel('Age')\n",
    "plt.show()"
   ]
  },
  {
   "cell_type": "code",
   "execution_count": 25,
   "id": "8c1e9358-2074-4d4a-acf7-1ae3a587d3da",
   "metadata": {},
   "outputs": [
    {
     "name": "stdout",
     "output_type": "stream",
     "text": [
      "top 5 most popular courses based on view counts:\n",
      "                                    title  view_count\n",
      "29    Full-Stack Web Development Bootcamp        9989\n",
      "27  Biology: Understanding the Human Body        9821\n",
      "35     Mastering React: Advanced Concepts        9445\n",
      "33     Marine Biology: Life Under the Sea        9320\n",
      "34        Genetics: From DNA to Evolution        9230\n"
     ]
    }
   ],
   "source": [
    "#  find the top 5 most popular courses based on view counts.\n",
    "viewed_courses = courses_df.nlargest(5,'view_count')\n",
    "print(f\"top 5 most popular courses based on view counts:\\n{viewed_courses[['title','view_count']]}\")"
   ]
  },
  {
   "cell_type": "code",
   "execution_count": 26,
   "id": "c884e987-2d6f-4a19-8b84-aa946da2fe3a",
   "metadata": {},
   "outputs": [
    {
     "name": "stdout",
     "output_type": "stream",
     "text": [
      "average course duration per category:\n",
      "category\n",
      "Arts and Design              NaN\n",
      "Business and Management      NaN\n",
      "Education                    NaN\n",
      "Health                       NaN\n",
      "Personal Development         NaN\n",
      "Science and Mathematics      NaN\n",
      "Technology and Programming   NaN\n",
      "Name: length, dtype: float64\n"
     ]
    }
   ],
   "source": [
    "# what is the average course duration per category?\n",
    "courses_df['length']=pd.to_numeric(courses_df['length'], errors='coerce')\n",
    "avg_duration_per_category = courses_df.groupby('category')['length'].mean()\n",
    "print(f\"average course duration per category:\\n{avg_duration_per_category}\")"
   ]
  },
  {
   "cell_type": "code",
   "execution_count": 27,
   "id": "4f5d6438-1a65-44d5-b995-c816de0d11d8",
   "metadata": {},
   "outputs": [
    {
     "name": "stdout",
     "output_type": "stream",
     "text": [
      "top 5 highest revenue generating courses:\n",
      "course_id\n",
      "64561    345.80\n",
      "78724    335.80\n",
      "56446    295.25\n",
      "21248    278.00\n",
      "62660    249.00\n",
      "Name: amount_paid, dtype: float64\n"
     ]
    }
   ],
   "source": [
    "# find the top 5 highest revenue generating courses.\n",
    "revenue_per_course = enrollment_df.merge(payments_df,on='enrollment_id').groupby('course_id')['amount_paid'].sum().nlargest(5)\n",
    "print(f\"top 5 highest revenue generating courses:\\n{revenue_per_course}\")"
   ]
  },
  {
   "cell_type": "code",
   "execution_count": 28,
   "id": "41731b14-c6b8-49ee-9212-9426e862df3d",
   "metadata": {},
   "outputs": [
    {
     "name": "stdout",
     "output_type": "stream",
     "text": [
      "average transaction amount for each payment method:\n",
      "payment_method\n",
      "PayPal    81.346667\n",
      "UPI       89.202632\n",
      "card      99.450000\n",
      "Name: amount_paid, dtype: float64\n"
     ]
    }
   ],
   "source": [
    "# what is the average transaction amount for each payment method?\n",
    "avg_amount = payments_df.groupby('payment_method')['amount_paid'].mean()\n",
    "print(f'average transaction amount for each payment method:\\n{avg_amount}')"
   ]
  },
  {
   "cell_type": "code",
   "execution_count": 29,
   "id": "df36e7fb-734b-4bcf-a354-87be17a15568",
   "metadata": {},
   "outputs": [
    {
     "name": "stdout",
     "output_type": "stream",
     "text": [
      "average rating for each course and add a column average rating in course_df\n",
      "course_id\n",
      "12938    4.600000\n",
      "13258    3.666667\n",
      "18426    3.800000\n",
      "20195    4.000000\n",
      "20671    5.000000\n",
      "21108    3.800000\n",
      "21248    4.000000\n",
      "22005    3.857143\n",
      "23531    4.800000\n",
      "27385    4.125000\n",
      "27431    4.666667\n",
      "30371    2.000000\n",
      "30790    4.000000\n",
      "31874    4.000000\n",
      "32369    4.666667\n",
      "33057    4.375000\n",
      "39766    4.333333\n",
      "42258    4.500000\n",
      "45749    4.500000\n",
      "48950    3.333333\n",
      "49963    4.000000\n",
      "51293    3.428571\n",
      "51452    4.600000\n",
      "53452    5.000000\n",
      "54046    4.250000\n",
      "54145    4.000000\n",
      "56446    4.142857\n",
      "56799    3.666667\n",
      "56956    4.500000\n",
      "57353    4.000000\n",
      "59716    2.000000\n",
      "60079    3.333333\n",
      "62276    4.666667\n",
      "62660    4.666667\n",
      "64561    5.000000\n",
      "64796    4.000000\n",
      "65005    4.250000\n",
      "67194    4.500000\n",
      "68511    2.500000\n",
      "69513    4.500000\n",
      "71838    4.200000\n",
      "72387    4.000000\n",
      "74770    3.500000\n",
      "76064    3.800000\n",
      "77946    4.666667\n",
      "78724    3.400000\n",
      "79177    4.333333\n",
      "85886    4.666667\n",
      "86558    3.750000\n",
      "86724    4.500000\n",
      "89472    3.000000\n",
      "92956    4.000000\n",
      "93178    3.500000\n",
      "93568    4.400000\n",
      "93619    3.500000\n",
      "96323    4.200000\n",
      "97039    4.500000\n",
      "97988    3.500000\n",
      "99133    4.500000\n",
      "Name: rating, dtype: float64\n"
     ]
    }
   ],
   "source": [
    "# calculate the average rating for each course and add a column average rating in course_df\n",
    "avg_rating = ratings_df.groupby('course_id')['rating'].mean()\n",
    "courses_df['average_rating'] = courses_df['course_id'].map(avg_rating)\n",
    "print(f\"average rating for each course and add a column average rating in course_df\\n{avg_rating}\")"
   ]
  },
  {
   "cell_type": "code",
   "execution_count": 30,
   "id": "355137cd-18cb-4e73-80e4-5a53cf689def",
   "metadata": {},
   "outputs": [
    {
     "name": "stdout",
     "output_type": "stream",
     "text": [
      "top 2 rated courses in eacg category:\n",
      "                      category  \\\n",
      "0              Arts and Design   \n",
      "1              Arts and Design   \n",
      "2              Arts and Design   \n",
      "3      Business and Management   \n",
      "4      Business and Management   \n",
      "5                    Education   \n",
      "6                    Education   \n",
      "7                    Education   \n",
      "8                    Education   \n",
      "9                       Health   \n",
      "10                      Health   \n",
      "11        Personal Development   \n",
      "12        Personal Development   \n",
      "13     Science and Mathematics   \n",
      "14     Science and Mathematics   \n",
      "15     Science and Mathematics   \n",
      "16     Science and Mathematics   \n",
      "17     Science and Mathematics   \n",
      "18     Science and Mathematics   \n",
      "19  Technology and Programming   \n",
      "20  Technology and Programming   \n",
      "\n",
      "                                                title  average_rating  \n",
      "0                   Photography: From Beginner to Pro        5.000000  \n",
      "1     Graphic Design Essentials: Tools and Techniques        4.666667  \n",
      "2                           UX/UI Design Fundamentals        4.666667  \n",
      "3   Entrepreneurship 101: Building Your First Startup        5.000000  \n",
      "4              Financial Analysis for Decision-Making        4.333333  \n",
      "5                    Childhood Education Fundamentals        4.800000  \n",
      "6              Early Childhood Education Fundamentals        4.500000  \n",
      "7   Educational Psychology: Enhancing Learning Out...        4.500000  \n",
      "8            Developing Curriculum for K-12 Education        4.500000  \n",
      "9   Anatomy and Physiology: Understanding the Huma...        5.000000  \n",
      "10                Introduction to Medical Terminology        4.500000  \n",
      "11              The Art of Negotiation and Persuasion        4.500000  \n",
      "12          Public Speaking and Communication Mastery        4.000000  \n",
      "13              Biology: Understanding the Human Body        4.666667  \n",
      "14             Biotechnology: Applications and Impact        4.666667  \n",
      "15    Renewable Energy: Technologies and Applications        4.666667  \n",
      "16              Biology: Understanding the Human Body        4.666667  \n",
      "17             Biotechnology: Applications and Impact        4.666667  \n",
      "18    Renewable Energy: Technologies and Applications        4.666667  \n",
      "19                                 Python Masterclass        4.666667  \n",
      "20                          Data structures through C        4.600000  \n"
     ]
    }
   ],
   "source": [
    "# Top 2 rated courses in each category\n",
    "top_course = courses_df.groupby('category')['average_rating'].nlargest(2).reset_index(level=0)\n",
    "top_course = top_course.merge(courses_df[['category','title','average_rating']], on=['category','average_rating'],how='left')\n",
    "print(f\"top 2 rated courses in eacg category:\\n{top_course[['category','title','average_rating']]}\")"
   ]
  },
  {
   "cell_type": "code",
   "execution_count": 31,
   "id": "96177432-bcda-494f-bccb-7eb888796e0a",
   "metadata": {},
   "outputs": [
    {
     "name": "stdout",
     "output_type": "stream",
     "text": [
      "average rating of each course category\n",
      "category\n",
      "Arts and Design               4.426667\n",
      "Business and Management       4.276667\n",
      "Education                     4.015152\n",
      "Health                        4.191005\n",
      "Personal Development          3.533333\n",
      "Science and Mathematics       3.951667\n",
      "Technology and Programming    4.025680\n",
      "Name: average_rating, dtype: float64\n"
     ]
    }
   ],
   "source": [
    "# display the average rating of each course category.\n",
    "avg_rating = courses_df.groupby('category')['average_rating'].mean()\n",
    "print(f\"average rating of each course category\\n{avg_rating}\")"
   ]
  },
  {
   "cell_type": "code",
   "execution_count": 32,
   "id": "1676351f-6c45-4619-a2ec-f853def83641",
   "metadata": {},
   "outputs": [
    {
     "name": "stdout",
     "output_type": "stream",
     "text": [
      "average rating for each instructor:\n",
      "instructor_id\n",
      "173468    4.000000\n",
      "204568    4.000000\n",
      "220585    4.240000\n",
      "241479    4.125000\n",
      "278667    3.583333\n",
      "288315    3.625000\n",
      "295438    4.000000\n",
      "364202    4.333333\n",
      "370558    4.500000\n",
      "417012    3.800000\n",
      "424379    4.200000\n",
      "457246    4.333333\n",
      "525207    4.000000\n",
      "536923    4.400000\n",
      "582060    4.153846\n",
      "632410    4.400000\n",
      "668495    3.866667\n",
      "712134    4.083333\n",
      "742878    4.666667\n",
      "751788    4.181818\n",
      "764597    4.000000\n",
      "767050    3.750000\n",
      "838186    3.833333\n",
      "871007    3.944444\n",
      "Name: rating, dtype: float64\n"
     ]
    }
   ],
   "source": [
    "# calculate the average rating for each instructor.\n",
    "avg_rating = ratings_df.merge(courses_df[['course_id','instructor_id']],on='course_id').groupby('instructor_id')['rating'].mean()\n",
    "print(f\"average rating for each instructor:\\n{avg_rating}\")"
   ]
  },
  {
   "cell_type": "code",
   "execution_count": 33,
   "id": "95cdfd7f-f3c9-4d27-a982-d8ae713e7d96",
   "metadata": {},
   "outputs": [
    {
     "name": "stdout",
     "output_type": "stream",
     "text": [
      "courses with no ratings:\n",
      "                                            title\n",
      "1              Advanced Mathematics for Engineers\n",
      "24  Physics Made Simple: Fundamentals to Advanced\n",
      "28                   Introduction to Astrophysics\n",
      "44            Mental Health Awareness and Support\n"
     ]
    }
   ],
   "source": [
    "# display course with no ratings.\n",
    "course_rating = courses_df[courses_df['average_rating'].isnull()]\n",
    "print(f\"courses with no ratings:\\n{course_rating[['title']]}\")"
   ]
  },
  {
   "cell_type": "code",
   "execution_count": 34,
   "id": "8e19111e-97fd-4d0b-88df-368b9d1caa4b",
   "metadata": {},
   "outputs": [
    {
     "name": "stdout",
     "output_type": "stream",
     "text": [
      "courses that have no students enrolled in them :\n",
      "                                                title\n",
      "0                         Data structures through C++\n",
      "1                  Advanced Mathematics for Engineers\n",
      "2             Advanced Data structures through Python\n",
      "3                     First Aid and CPR Certification\n",
      "4              Managing Diabetes and Chronic Diseases\n",
      "5        How to Teach Reading and Writing Effectively\n",
      "6     Environmental Science: Understanding Ecosystems\n",
      "7                     Introduction to Quantum Physics\n",
      "8       Creative Writing: Crafting Compelling Stories\n",
      "9            Teaching Strategies for the 21st Century\n",
      "10       Classroom Management: Techniques for Success\n",
      "11           Instructional Design for Online Learning\n",
      "12             Early Childhood Education Fundamentals\n",
      "13                                 Python Masterclass\n",
      "14                      Digital Marketing Masterclass\n",
      "15                Leadership and Strategic Management\n",
      "16             Financial Analysis for Decision-Making\n",
      "17   Project Management: From Initiation to Execution\n",
      "19    Graphic Design Essentials: Tools and Techniques\n",
      "20                          UX/UI Design Fundamentals\n",
      "22                  Photography: From Beginner to Pro\n",
      "23      Introduction to Animation and Motion Graphics\n",
      "26                  The Science of Everyday Chemistry\n",
      "27              Biology: Understanding the Human Body\n",
      "29                Full-Stack Web Development Bootcamp\n",
      "32                  Astronomy: Exploring the Universe\n",
      "34                    Genetics: From DNA to Evolution\n",
      "35                 Mastering React: Advanced Concepts\n",
      "36    Renewable Energy: Technologies and Applications\n",
      "39         Productivity Hacks: Achieve More Every Day\n",
      "40              The Art of Negotiation and Persuasion\n",
      "42                       Nutrition and Healthy Living\n",
      "45      Fitness Coaching: Becoming a Personal Trainer\n",
      "46       Public Health: Foundations and Future Trends\n",
      "48                  Yoga and Mindfulness for Wellness\n",
      "49                     Global Health and Epidemiology\n",
      "50                      Introduction to Cybersecurity\n",
      "52               Advanced Data structures through C++\n",
      "53                Advanced Data structures through C#\n",
      "54              Advanced Data structures through Java\n",
      "56      Special Education: Understanding Disabilities\n",
      "57                     Culturally Responsive Teaching\n",
      "58               AI and Deep Learning with TensorFlow\n",
      "59                          Gamification in Education\n",
      "60  Educational Psychology: Enhancing Learning Out...\n"
     ]
    }
   ],
   "source": [
    "# find courses that have no students enrolled in them.\n",
    "enrolled = enrollment_df['course_id'].unique()\n",
    "no_enrolled_course =courses_df[courses_df['course_id'].isin(enrolled)] \n",
    "print(f\"courses that have no students enrolled in them :\\n{no_enrolled_course[['title']]}\")"
   ]
  },
  {
   "cell_type": "code",
   "execution_count": 35,
   "id": "1ac10895-3519-4e6d-b22b-2370a2058558",
   "metadata": {},
   "outputs": [
    {
     "name": "stdout",
     "output_type": "stream",
     "text": [
      "number of students from each country based on thier enrollments:\n",
      "country\n",
      "China      54\n",
      "Germany     6\n",
      "India      95\n",
      "UK         35\n",
      "US         71\n",
      "Name: student_id, dtype: int64\n"
     ]
    }
   ],
   "source": [
    "# find the number of students from each country based on thier enrollments\n",
    "std_country = enrollment_df.merge(users_df[['user_id','country']],left_on='student_id',right_on='user_id').groupby('country')['student_id'].nunique()\n",
    "print(f\"number of students from each country based on thier enrollments:\\n{std_country}\")"
   ]
  },
  {
   "cell_type": "code",
   "execution_count": 36,
   "id": "c7c01781-caf8-4feb-97af-5d2ebf9af201",
   "metadata": {},
   "outputs": [
    {
     "name": "stdout",
     "output_type": "stream",
     "text": [
      "course popularity details by country:\n",
      "    country  course_id  enrollment_count\n",
      "9     China      49963                 5\n",
      "25  Germany      27385                 1\n",
      "59    India      93619                 9\n",
      "74       UK      64796                 5\n",
      "94       US      64796                 8\n"
     ]
    }
   ],
   "source": [
    "# get the course popularity details by country.\n",
    "course_pop = enrollment_df.merge(users_df[['user_id','country']], left_on='student_id',right_on='user_id').groupby(['country','course_id']).size().reset_index(name='enrollment_count')\n",
    "most_popular = course_pop.loc[course_pop.groupby('country')['enrollment_count'].idxmax()]\n",
    "print(f\"course popularity details by country:\\n{most_popular}\")"
   ]
  },
  {
   "cell_type": "code",
   "execution_count": 37,
   "id": "f72b3fae-f1a0-4a51-92bb-aaf577737476",
   "metadata": {},
   "outputs": [
    {
     "name": "stdout",
     "output_type": "stream",
     "text": [
      "top 5 best selling paid courses:\n",
      "course_id\n",
      "64561    345.80\n",
      "78724    335.80\n",
      "56446    295.25\n",
      "21248    278.00\n",
      "62660    249.00\n",
      "Name: amount_paid, dtype: float64\n"
     ]
    }
   ],
   "source": [
    "# find the top 5 bestselling paid courses.\n",
    "best_selling = enrollment_df.merge(payments_df[payments_df['amount_paid']>0],\n",
    "                                  on='enrollment_id').groupby('course_id')['amount_paid'].sum().nlargest(5)\n",
    "print(f\"top 5 best selling paid courses:\\n{best_selling}\")"
   ]
  },
  {
   "cell_type": "code",
   "execution_count": 38,
   "id": "3400fd39-e8c0-4b25-a14d-646a5e5910ce",
   "metadata": {},
   "outputs": [
    {
     "name": "stdout",
     "output_type": "stream",
     "text": [
      "best selling course in each category:\n",
      "    course_id                    category  amount_paid\n",
      "15      64561             Arts and Design       345.80\n",
      "18      78724                   Education       335.80\n",
      "25      96323                      Health       173.70\n",
      "26      99133        Personal Development        99.00\n",
      "14      62660     Science and Mathematics       249.00\n",
      "10      56446  Technology and Programming       295.25\n"
     ]
    }
   ],
   "source": [
    "# find the bestselling course in each category.\n",
    "best_selling_category = (enrollment_df.merge(payments_df, on='enrollment_id').merge(courses_df, on='course_id')\n",
    "                        .groupby(['course_id','category'])['amount_paid'].sum().reset_index())\n",
    "best_selling_category = (best_selling_category.loc[best_selling_category.groupby('category')['amount_paid'].idxmax()])\n",
    "print(f\"best selling course in each category:\\n{best_selling_category}\")"
   ]
  },
  {
   "cell_type": "code",
   "execution_count": 39,
   "id": "268183ba-07a5-45dc-b931-ae2915357915",
   "metadata": {},
   "outputs": [
    {
     "name": "stdout",
     "output_type": "stream",
     "text": [
      "free and paid enrollments:\n",
      "free enrollments:0\n",
      "paid enrollments:43\n"
     ]
    }
   ],
   "source": [
    "# calculate the number of free enrollments and paid enrollments\n",
    "free_enrollments = enrollment_df[enrollment_df['enrollment_id'].isin(payments_df[payments_df['amount_paid']==0]['enrollment_id'])].shape[0]\n",
    "paid_enrollments = enrollment_df[enrollment_df['enrollment_id'].isin(payments_df[payments_df['amount_paid']>0]['enrollment_id'])].shape[0]\n",
    "print(f\"free and paid enrollments:\\nfree enrollments:{free_enrollments}\\npaid enrollments:{paid_enrollments}\")"
   ]
  },
  {
   "cell_type": "code",
   "execution_count": 40,
   "id": "44bc630a-54e0-4673-a58b-5117bb343658",
   "metadata": {},
   "outputs": [
    {
     "name": "stdout",
     "output_type": "stream",
     "text": [
      "correlation between the number of videos and the completion rate:\n",
      "-0.07\n"
     ]
    }
   ],
   "source": [
    "# find correlation between the number of videos and the completion rate\n",
    "corr_vid_completion = courses_df['number_of_videos'].corr(courses_df['completion_rate'])\n",
    "print(f\"correlation between the number of videos and the completion rate:\\n{corr_vid_completion:.2f}\")"
   ]
  },
  {
   "cell_type": "code",
   "execution_count": 41,
   "id": "c8d0e77b-0407-408c-b919-56d3dca3c04d",
   "metadata": {},
   "outputs": [
    {
     "name": "stdout",
     "output_type": "stream",
     "text": [
      "correlation between the number of videos and the completion rate\n",
      "-0.21\n"
     ]
    }
   ],
   "source": [
    "# find the correlation between number of quizzes and average rating for each course.\n",
    "corr_quizzes_rating = courses_df['number_of_quizzes'].corr(courses_df['average_rating'])\n",
    "print(f\"correlation between the number of videos and the completion rate\\n{corr_quizzes_rating:.2f}\")"
   ]
  },
  {
   "cell_type": "code",
   "execution_count": 42,
   "id": "f27e4f33-3cc3-494c-bef3-75705b44c3d1",
   "metadata": {},
   "outputs": [
    {
     "name": "stdout",
     "output_type": "stream",
     "text": [
      "failed transaction:\n",
      "0\n"
     ]
    }
   ],
   "source": [
    "# how many payment transaction failed using paypal?\n",
    "failed = payments_df[(payments_df['payment_method']=='Paypal')& (payments_df['payment_status']=='failed')].shape[0]\n",
    "print(f\"failed transaction:\\n{failed}\")"
   ]
  },
  {
   "cell_type": "code",
   "execution_count": 43,
   "id": "f6cb810d-a055-4f97-bf9f-fff6498878bc",
   "metadata": {},
   "outputs": [
    {
     "name": "stdout",
     "output_type": "stream",
     "text": [
      "payment_status  failed  pending  success\n",
      "payment_method                          \n",
      "PayPal               1        0       14\n",
      "UPI                  0        1       18\n",
      "card                 0        0       11\n"
     ]
    }
   ],
   "source": [
    "# get a summary of payment methods including how many successful, failed or pending are there for each method.\n",
    "payment_summary = payments_df.groupby(['payment_method','payment_status']).size().unstack(fill_value=0)\n",
    "print(payment_summary)"
   ]
  },
  {
   "cell_type": "code",
   "execution_count": 44,
   "id": "c2b9a4dc-aaba-42b6-8299-b8c7ade718d7",
   "metadata": {},
   "outputs": [
    {
     "name": "stdout",
     "output_type": "stream",
     "text": [
      "non_refunded:\n",
      "                                                title\n",
      "0                         Data structures through C++\n",
      "1                  Advanced Mathematics for Engineers\n",
      "2             Advanced Data structures through Python\n",
      "3                     First Aid and CPR Certification\n",
      "4              Managing Diabetes and Chronic Diseases\n",
      "..                                                ...\n",
      "58               AI and Deep Learning with TensorFlow\n",
      "59                          Gamification in Education\n",
      "60  Educational Psychology: Enhancing Learning Out...\n",
      "61           Developing Curriculum for K-12 Education\n",
      "62                   Childhood Education Fundamentals\n",
      "\n",
      "[63 rows x 1 columns]\n"
     ]
    }
   ],
   "source": [
    "# display the courses that were never refunded\n",
    "refunded = refunds_df['enrollment_id'].unique()\n",
    "non_refunded = courses_df[~courses_df['course_id'].isin(refunded)]\n",
    "print(f\"non_refunded:\\n{non_refunded[['title']]}\")"
   ]
  },
  {
   "cell_type": "code",
   "execution_count": 45,
   "id": "2fe47a71-cb2c-485e-b6dc-321307ce6dea",
   "metadata": {
    "scrolled": true
   },
   "outputs": [
    {
     "data": {
      "image/png": "[encoded data removed]",
      "text/plain": [
       "<Figure size 1000x500 with 1 Axes>"
      ]
     },
     "metadata": {},
     "output_type": "display_data"
    }
   ],
   "source": [
    "# use box plot to plot distribution of completion rates by difficulty level.\n",
    "plt.figure(figsize=(10,5))\n",
    "sns.boxplot(data=courses_df, x='difficulty_level',y='completion_rate')\n",
    "plt.title('completion rates by difficulty level')\n",
    "plt.xlabel('difficulty level')\n",
    "plt.ylabel('completion rate')\n",
    "plt.show()"
   ]
  },
  {
   "cell_type": "code",
   "execution_count": 46,
   "id": "bc3a5b15-8282-4a5e-8d77-a8bf62c85a0b",
   "metadata": {},
   "outputs": [
    {
     "name": "stdout",
     "output_type": "stream",
     "text": [
      "course category with the most enrollments:Education\n"
     ]
    }
   ],
   "source": [
    "# identify the course category with the most enrollments\n",
    "most_enrolled = enrollment_df.merge(courses_df[['course_id','category']],\n",
    "                                   on='course_id').groupby('category')['student_id'].nunique().idxmax()\n",
    "print(f\"course category with the most enrollments:{most_enrolled}\")"
   ]
  },
  {
   "cell_type": "code",
   "execution_count": 47,
   "id": "e930c350-fc26-4916-8716-00cc66bd2426",
   "metadata": {},
   "outputs": [
    {
     "name": "stdout",
     "output_type": "stream",
     "text": [
      "number of inactive users :0\n"
     ]
    }
   ],
   "source": [
    "# find the number of inactive users - users who have not logged in during last 30 days.\n",
    "users_df['last_login_date'] = pd.to_datetime(users_df['last_login_date'],format='%d-%m-%y',errors='coerce')\n",
    "users_df_cleaned = users_df.dropna(subset=['last_login_date'])\n",
    "inactive_users = users_df_cleaned[users_df_cleaned['last_login_date']<(datetime.now()-timedelta(days=30))]\n",
    "print(f\"number of inactive users :{inactive_users.shape[0]}\")"
   ]
  },
  {
   "cell_type": "code",
   "execution_count": 48,
   "id": "b397c124-86ad-43d8-8a74-8dbf29d64291",
   "metadata": {},
   "outputs": [
    {
     "name": "stdout",
     "output_type": "stream",
     "text": [
      "average price of courses in each category:category\n",
      "Arts and Design                71.000000\n",
      "Business and Management        81.000000\n",
      "Education                      94.000000\n",
      "Health                         93.000000\n",
      "Personal Development           90.800000\n",
      "Science and Mathematics       124.900000\n",
      "Technology and Programming    116.727273\n",
      "Name: price, dtype: float64\n"
     ]
    }
   ],
   "source": [
    "# what is the average price of courses in each category?\n",
    "avg_price_per_category = courses_df[courses_df['price']>0].groupby('category')['price'].mean()\n",
    "print(f\"average price of courses in each category:{avg_price_per_category}\")"
   ]
  },
  {
   "cell_type": "code",
   "execution_count": 49,
   "id": "25df628d-de1d-49d4-a6e7-f19d0953d478",
   "metadata": {},
   "outputs": [
    {
     "name": "stdout",
     "output_type": "stream",
     "text": [
      "courses available with subtitles:55\n"
     ]
    }
   ],
   "source": [
    "# how many courses are available with subtitles?\n",
    "courses_subtitles = courses_df[courses_df['subtitles']=='yes'].shape[0]\n",
    "print(f\"courses available with subtitles:{courses_subtitles}\")"
   ]
  },
  {
   "cell_type": "code",
   "execution_count": 50,
   "id": "767b06a1-6363-4161-b6a0-0c3576a96303",
   "metadata": {},
   "outputs": [
    {
     "name": "stdout",
     "output_type": "stream",
     "text": [
      "percentage of courses offering certifications : 66.67\n"
     ]
    }
   ],
   "source": [
    "# what percentage of courses offer certifications?\n",
    "certification_percentage = (courses_df[courses_df['certification_available']=='yes'].shape[0]/courses_df.shape[0]*100)\n",
    "print(f'percentage of courses offering certifications : {certification_percentage:.2f}')"
   ]
  },
  {
   "cell_type": "code",
   "execution_count": 51,
   "id": "ee16c31c-09dd-415b-b0ac-94e8c046c250",
   "metadata": {},
   "outputs": [
    {
     "name": "stdout",
     "output_type": "stream",
     "text": [
      "average time gap between registration and first enrollment:937.40days\n"
     ]
    }
   ],
   "source": [
    "# what is the average time gap between a users registration date and their enrollment date?\n",
    "users_enrollment_dates = enrollment_df.merge(users_df[['user_id','registration_date']],left_on='student_id',right_on='user_id')\n",
    "users_enrollment_dates['time_gap'] = (pd.to_datetime(users_enrollment_dates['enrollment_date']\n",
    "                                                    )-pd.to_datetime(users_enrollment_dates['registration_date'])).dt.days\n",
    "avrg_time_gap = users_enrollment_dates['time_gap'].mean()\n",
    "print(f\"average time gap between registration and first enrollment:{avrg_time_gap:.2f}days\")\n"
   ]
  },
  {
   "cell_type": "code",
   "execution_count": 52,
   "id": "66315527-4ad3-4a5b-98bb-05646f56a014",
   "metadata": {},
   "outputs": [
    {
     "name": "stdout",
     "output_type": "stream",
     "text": [
      "users who have signed up but not enrolled in any course:                               email                name\n",
      "0          garzaanthony@robinson.org        Allison Hill\n",
      "1                lindsay78@gmail.com        George Davis\n",
      "2           jacqueline19@jackson.biz           Mark Diaz\n",
      "3             julie69@cox-osborn.com        Thomas Ellis\n",
      "4               cartereric@gmail.com        Alexandra Le\n",
      "...                              ...                 ...\n",
      "2937           williamhill@gmail.com       Stacy Russell\n",
      "2938           rebeccahunt@yahoo.com     Tammy Marsh DDS\n",
      "2939          andrew73@rodriguez.org         Kevin Floyd\n",
      "2940   hjohnston@shields-sanchez.net      Nancy Galloway\n",
      "2941  gcurry@espinoza-rodriguez.info  Walter Cochran DDS\n",
      "\n",
      "[2681 rows x 2 columns]\n"
     ]
    }
   ],
   "source": [
    "# get the email address and names of users who have signed up but not enrolled in any course.\n",
    "non_enrolled_users = users_df[~users_df['user_id'].isin(enrollment_df['student_id'])]\n",
    "print(f\"users who have signed up but not enrolled in any course:{non_enrolled_users[['email','name']]}\")"
   ]
  },
  {
   "cell_type": "code",
   "execution_count": 54,
   "id": "4fe5e684-fe5c-4222-ad53-78d95b9bd452",
   "metadata": {},
   "outputs": [
    {
     "name": "stdout",
     "output_type": "stream",
     "text": [
      "monthly new user growth:\n",
      "registration_month\n",
      "2020-01    59\n",
      "2020-02    41\n",
      "2020-03    46\n",
      "2020-04    46\n",
      "2020-05    50\n",
      "           ..\n",
      "2024-09    52\n",
      "2024-10    50\n",
      "2024-11    49\n",
      "2024-12    51\n",
      "2025-01    25\n",
      "Freq: M, Length: 61, dtype: int64\n"
     ]
    }
   ],
   "source": [
    "# analyze monthly new user growth to understand monthly trends?\n",
    "users_df['registration_date'] = pd.to_datetime(users_df['registration_date'])\n",
    "users_df['registration_month'] = users_df['registration_date'].dt.to_period('M')\n",
    "monthly_new_users = users_df.groupby('registration_month').size()\n",
    "print(f\"monthly new user growth:\\n{monthly_new_users}\")"
   ]
  },
  {
   "cell_type": "code",
   "execution_count": 56,
   "id": "7d70a441-4148-45ba-9f1d-26b051d926f6",
   "metadata": {},
   "outputs": [
    {
     "data": {
      "image/png": "[encoded data removed]",
      "text/plain": [
       "<Figure size 1000x600 with 1 Axes>"
      ]
     },
     "metadata": {},
     "output_type": "display_data"
    }
   ],
   "source": [
    "# calculate and plot the cumulative user growth.\n",
    "cumulative_user_growth = monthly_new_users.cumsum()\n",
    "plt.figure(figsize=(10,6))\n",
    "cumulative_user_growth.plot()\n",
    "plt.title('cumulative user growth')\n",
    "plt.xlabel('month')\n",
    "plt.ylabel('Cumulative Users')\n",
    "plt.show()"
   ]
  },
  {
   "cell_type": "code",
   "execution_count": 58,
   "id": "6df5567e-5bdf-4ab4-ae9b-cba9e959386a",
   "metadata": {},
   "outputs": [
    {
     "name": "stdout",
     "output_type": "stream",
     "text": [
      "monthly revenue report:\n",
      "payment_month\n",
      "2025-01    4009.0\n",
      "Freq: M, Name: amount_paid, dtype: float64\n"
     ]
    }
   ],
   "source": [
    "# generate the monthly revenue report.\n",
    "payments_df['transaction_date'] = pd.to_datetime(payments_df['transaction_date'])\n",
    "payments_df['payment_month'] = payments_df['transaction_date'].dt.to_period('M')\n",
    "monthly_revenue = payments_df.groupby('payment_month')['amount_paid'].sum()\n",
    "print(f\"monthly revenue report:\\n{monthly_revenue}\")"
   ]
  },
  {
   "cell_type": "code",
   "execution_count": 60,
   "id": "9c2249b0-7da4-4678-97e0-73ee193fff0a",
   "metadata": {},
   "outputs": [
    {
     "name": "stdout",
     "output_type": "stream",
     "text": [
      "Annual revenue:\n",
      "payment_year\n",
      "2025    4009.0\n",
      "Freq: A-DEC, Name: amount_paid, dtype: float64\n"
     ]
    }
   ],
   "source": [
    "# generate the annual revenue report.\n",
    "payments_df['payment_year']= payments_df['transaction_date'].dt.to_period('Y')\n",
    "annual_revenue = payments_df.groupby('payment_year')['amount_paid'].sum()\n",
    "print(f\"Annual revenue:\\n{annual_revenue}\")"
   ]
  },
  {
   "cell_type": "code",
   "execution_count": 74,
   "id": "de885395-3854-4e8f-bbb5-607a9691e81e",
   "metadata": {},
   "outputs": [
    {
     "name": "stdout",
     "output_type": "stream",
     "text": [
      "weekday purchases:30\n",
      "weekend purchase:15\n"
     ]
    }
   ],
   "source": [
    "# analyze whether there are more purchase in weekdays or weekends.\n",
    "payments_df['day_of_week']=payments_df['transaction_date'].dt.dayofweek\n",
    "weekday_purchase = payments_df[payments_df['day_of_week']<5].shape[0]\n",
    "weekend_purchase = payments_df[payments_df['day_of_week']>=5].shape[0]\n",
    "print(f\"weekday purchases:{weekday_purchase}\\nweekend purchase:{weekend_purchase}\")"
   ]
  },
  {
   "cell_type": "code",
   "execution_count": 78,
   "id": "8dc35749-803e-47ca-9a5d-712796688612",
   "metadata": {},
   "outputs": [
    {
     "data": {
      "image/png": "[encoded data removed]",
      "text/plain": [
       "<Figure size 1000x500 with 1 Axes>"
      ]
     },
     "metadata": {},
     "output_type": "display_data"
    }
   ],
   "source": [
    "# which coupon code is used most frequently? visualize the distribution of coupon code usage.\n",
    "most_used  = payments_df['coupon_code'].mode()[0]\n",
    "coupon_usage= payments_df['coupon_code'].value_counts()\n",
    "plt.figure(figsize=(10,5))\n",
    "sns.barplot(x=coupon_usage.index, y=coupon_usage.values)\n",
    "plt.title('coupon code usage distribution')\n",
    "plt.xlabel('coupon code')\n",
    "plt.ylabel('usage count')\n",
    "plt.xticks(rotation=45)\n",
    "plt.show()"
   ]
  },
  {
   "cell_type": "code",
   "execution_count": 83,
   "id": "960a440e-bd03-400b-9905-3278f24159ce",
   "metadata": {},
   "outputs": [
    {
     "name": "stdout",
     "output_type": "stream",
     "text": [
      "completion rates by country:\n",
      "country\n",
      "China      41.676271\n",
      "Germany    47.893333\n",
      "India      45.494800\n",
      "UK         39.162162\n",
      "US         43.602800\n",
      "Name: completion_rate, dtype: float64\n"
     ]
    }
   ],
   "source": [
    "# analyze compltion rates by country.\n",
    "completion_rate = enrollment_df.merge(users_df[['user_id','country']],left_on='student_id',right_on='user_id').merge(courses_df[\n",
    "                                                                                                                    ['course_id','completion_rate']],on='course_id').groupby('country')['completion_rate'].mean()\n",
    "print(f\"completion rates by country:\\n{completion_rate}\")\n"
   ]
  }
 ],
 "metadata": {
  "kernelspec": {
   "display_name": "Python 3 (ipykernel)",
   "language": "python",
   "name": "python3"
  },
  "language_info": {
   "codemirror_mode": {
    "name": "ipython",
    "version": 3
   },
   "file_extension": ".py",
   "mimetype": "text/x-python",
   "name": "python",
   "nbconvert_exporter": "python",
   "pygments_lexer": "ipython3",
   "version": "3.11.5"
  }
 },
 "nbformat": 4,
 "nbformat_minor": 5
}
